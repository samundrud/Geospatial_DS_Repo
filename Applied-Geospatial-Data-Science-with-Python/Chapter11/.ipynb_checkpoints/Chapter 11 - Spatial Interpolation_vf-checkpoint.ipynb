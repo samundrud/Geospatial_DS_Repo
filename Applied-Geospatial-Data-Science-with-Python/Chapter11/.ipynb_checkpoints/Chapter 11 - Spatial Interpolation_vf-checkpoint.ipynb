{
 "cells": [
  {
   "cell_type": "markdown",
   "id": "02593643",
   "metadata": {},
   "source": [
    "# 1.0 Setup"
   ]
  },
  {
   "cell_type": "markdown",
   "id": "689af449",
   "metadata": {},
   "source": [
    "## 1.1 Package Imports"
   ]
  },
  {
   "cell_type": "code",
   "execution_count": null,
   "id": "a08e9cc8",
   "metadata": {},
   "outputs": [],
   "source": [
    "import pandas as pd\n",
    "import geopandas as gpd\n",
    "import pykrige\n",
    "from pyidw import idw\n",
    "from sklearn.metrics import mean_squared_error\n",
    "import rasterio\n",
    "from matplotlib import pyplot as plt"
   ]
  },
  {
   "cell_type": "markdown",
   "id": "e452a08e",
   "metadata": {},
   "source": [
    "## 1.2 Data Import"
   ]
  },
  {
   "cell_type": "code",
   "execution_count": null,
   "id": "0b79ee66",
   "metadata": {},
   "outputs": [],
   "source": [
    "path = r'YOUR FILE PATH'"
   ]
  },
  {
   "cell_type": "code",
   "execution_count": null,
   "id": "5ff2fe33",
   "metadata": {},
   "outputs": [],
   "source": [
    "# Ohio Shapefile\n",
    "ohio = gpd.read_file(path + \"Ohio\\Ohio.shp\")\n",
    "ohio_state = ohio.dissolve()\n",
    "ohio_state = ohio_state[['STATEFP','geometry']]\n",
    "ohio_state = ohio_state.to_crs(\"EPSG:4326\")\n",
    "ohio_state.to_file(path + \"Ohio\\Ohio_State.shp\")\n",
    "\n",
    "# Ohio Temperatures\n",
    "temps = pd.read_csv(path + \"Chapter 11\\Ohio Temps.csv\")\n",
    "temps = temps[~temps['TAVG'].isnull()]\n",
    "temps = temps[temps['DATE']=='2022-01-01']\n",
    "temps = temps[['LATITUDE','LONGITUDE','TAVG']]\n",
    "\n",
    "# Converting to geopandas and writing out as shapefile\n",
    "temps_gpdf = gpd.GeoDataFrame(\n",
    "    temps,\n",
    "    geometry=gpd.points_from_xy(temps['LONGITUDE'],\n",
    "                                   temps['LATITUDE'],\n",
    "                                   crs=\"EPSG:4326\")\n",
    ")\n",
    "\n",
    "# Output the shapefile\n",
    "temps_gpdf.to_file(path + \"Chapter 11\\Ohio Temps.shp\")"
   ]
  },
  {
   "cell_type": "code",
   "execution_count": null,
   "id": "86d808c4",
   "metadata": {},
   "outputs": [],
   "source": [
    "# Dropping the geometry column\n",
    "temps_nogeom = temps.drop(['geometry'], axis=1)\n",
    "\n",
    "# Converting the DataFrame to a numpy array\n",
    "temps_array = temps_nogeom.to_numpy()\n",
    "\n",
    "# Plot the observations\n",
    "obs = plt.scatter(temps_array[:, 1],\n",
    "    temps_array[:, 0],\n",
    "    c = temps_array[:, 2], cmap='coolwarm')\n",
    "cbar = plt.colorbar(obs)\n",
    "plt.title('Observed Temperatures')\n",
    "plt.show()"
   ]
  },
  {
   "cell_type": "markdown",
   "id": "e3fec116",
   "metadata": {},
   "source": [
    "# 2.0 Spatial Interpolation"
   ]
  },
  {
   "cell_type": "markdown",
   "id": "772848e7",
   "metadata": {},
   "source": [
    "## 2.1 Inverse Distance Weighted Interpolation"
   ]
  },
  {
   "cell_type": "code",
   "execution_count": null,
   "id": "904c36b7",
   "metadata": {},
   "outputs": [],
   "source": [
    "idw.idw_interpolation(\n",
    "    input_point_shapefile=path + \"Chapter 11\\Ohio Temps.shp\",\n",
    "    extent_shapefile=path + \"Ohio\\Ohio_State.shp\",\n",
    "    column_name=\"TAVG\",\n",
    "    power=2,\n",
    "    search_radious=3,\n",
    "    output_resolution=250\n",
    ")"
   ]
  },
  {
   "cell_type": "markdown",
   "id": "88c0c428",
   "metadata": {},
   "source": [
    "## 2.2 Oridinary Kriging Interpolation"
   ]
  },
  {
   "cell_type": "code",
   "execution_count": null,
   "id": "9f87f628",
   "metadata": {},
   "outputs": [],
   "source": [
    "# Package Imports\n",
    "import matplotlib.pyplot as plt\n",
    "import numpy as np\n",
    "import pykrige.kriging_tools as kt\n",
    "from pykrige.ok import OrdinaryKriging"
   ]
  },
  {
   "cell_type": "code",
   "execution_count": null,
   "id": "e3137ed1",
   "metadata": {},
   "outputs": [],
   "source": [
    "min_x = min(temps_nogeom['LONGITUDE'])\n",
    "max_x = max(temps_nogeom['LONGITUDE'])\n",
    "min_y = min(temps_nogeom['LATITUDE'])\n",
    "max_y = max(temps_nogeom['LATITUDE'])\n",
    "\n",
    "gridx = np.arange(min_x, max_x, 0.1, dtype='float64')\n",
    "gridy = np.arange(min_y, max_y, 0.1, dtype='float64')"
   ]
  },
  {
   "cell_type": "code",
   "execution_count": null,
   "id": "f61ab7b7",
   "metadata": {},
   "outputs": [],
   "source": [
    "Orid_Krig = OrdinaryKriging(\n",
    "    temps_array[:, 1], #Longitude vector\n",
    "    temps_array[:, 0], #Latitude vector\n",
    "    temps_array[:, 2], #Temperatures vector\n",
    "    variogram_model=\"gaussian\", #The semivariogram model\n",
    "    verbose=True, #True writes out the steps as they're being performed\n",
    "    enable_plotting=True # True plots the emperical semivariogram\n",
    ")"
   ]
  },
  {
   "cell_type": "code",
   "execution_count": null,
   "id": "52d76a12",
   "metadata": {},
   "outputs": [],
   "source": [
    "# Interpolate the values using the kriging model\n",
    "z, ss = Orid_Krig.execute(\"grid\", gridx, gridy)"
   ]
  },
  {
   "cell_type": "code",
   "execution_count": null,
   "id": "97408581",
   "metadata": {},
   "outputs": [],
   "source": [
    "# Plot the interpolarted values and sampled points\n",
    "im = plt.imshow(z, extent=[min_x-.05, max_x+.05, min_y-.05, max_y+.05], origin='lower', cmap='coolwarm')\n",
    "plt.scatter(temps_array[:, 1],\n",
    "    temps_array[:, 0],\n",
    "    c = temps_array[:, 2], alpha=.5, marker='o', s=20, edgecolors='black', linewidth=1, cmap='coolwarm')\n",
    "cbar = plt.colorbar(im)\n",
    "plt.title(\"Interpolated Temperature\")\n",
    "plt.show()"
   ]
  },
  {
   "cell_type": "code",
   "execution_count": null,
   "id": "bbca05d6",
   "metadata": {},
   "outputs": [],
   "source": []
  }
 ],
 "metadata": {
  "kernelspec": {
   "display_name": "Python 3 (ipykernel)",
   "language": "python",
   "name": "python3"
  },
  "language_info": {
   "codemirror_mode": {
    "name": "ipython",
    "version": 3
   },
   "file_extension": ".py",
   "mimetype": "text/x-python",
   "name": "python",
   "nbconvert_exporter": "python",
   "pygments_lexer": "ipython3",
   "version": "3.10.8"
  }
 },
 "nbformat": 4,
 "nbformat_minor": 5
}
