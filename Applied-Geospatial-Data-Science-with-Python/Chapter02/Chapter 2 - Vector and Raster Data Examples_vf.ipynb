{
 "cells": [
  {
   "cell_type": "code",
   "execution_count": null,
   "id": "e408838d-5c42-48d0-9953-954d539c172a",
   "metadata": {},
   "outputs": [],
   "source": [
    "from pysal.lib import weights\n",
    "from pysal.explore import esda\n",
    "import numpy as np\n",
    "import pandas as pd\n",
    "import geopandas as gpd\n",
    "import matplotlib.pyplot as plt\n",
    "import seaborn\n",
    "import contextily\n",
    "import os"
   ]
  },
  {
   "cell_type": "code",
   "execution_count": null,
   "id": "04970a3e",
   "metadata": {},
   "outputs": [],
   "source": [
    "path = 'YOUR FILE PATH'\n",
    "path = r'G:\\My Drive\\Geospatial Data Science with Python\\Data\\\\'"
   ]
  },
  {
   "cell_type": "code",
   "execution_count": null,
   "id": "61026095-d07e-4584-b34f-c23739dece54",
   "metadata": {},
   "outputs": [],
   "source": [
    "NYC = contextily.Place(\"Manhattan, NY\")\n",
    "f = NYC.plot()\n",
    "f.show()"
   ]
  },
  {
   "cell_type": "code",
   "execution_count": null,
   "id": "95becc8c-9577-4c99-889f-f190beeae3bf",
   "metadata": {},
   "outputs": [],
   "source": [
    "# Reading in the boroughs data\n",
    "boroughs = gpd.read_file(path + r\"NYC Boroughs\\nybb_22a\\nybb.shp\")\n",
    "manhattan = boroughs[boroughs['BoroName']=='Manhattan']\n",
    "manhattan = manhattan.to_crs('EPSG:4326')"
   ]
  },
  {
   "cell_type": "code",
   "execution_count": null,
   "id": "b8b474e5-4f40-41f9-adc9-1acaf810770c",
   "metadata": {},
   "outputs": [],
   "source": [
    "roads = gpd.read_file(path + r\"New York Vector Data\\road.geojson\")\n",
    "roads = roads.to_crs('EPSG:4326')\n",
    "buildings = gpd.read_file(path + r\"New York Vector Data\\Building Footprints.geojson\")\n",
    "buildings = buildings.to_crs('EPSG:4326')"
   ]
  },
  {
   "cell_type": "code",
   "execution_count": null,
   "id": "dc2920f2-1cc4-4f7a-b7b2-39e23808c3cd",
   "metadata": {},
   "outputs": [],
   "source": [
    "# Reading in the NYC Neighborhoods from data file\n",
    "nyc_n = gpd.read_file(os.path.join(path,r\"NYC Neighborhoods\\NYC_Neighborhoods.geojson\"), driver='GeoJSON')\n",
    "nyc_n = nyc_n[nyc_n['neighborhood'].isin(['Upper West Side','Upper East Side', 'Central Park'])]\n",
    "nyc_n.head()"
   ]
  },
  {
   "cell_type": "code",
   "execution_count": null,
   "id": "844272d4-291f-4be0-b906-f1c72a98e545",
   "metadata": {},
   "outputs": [],
   "source": [
    "nyc_n_dissolve = nyc_n.dissolve()\n",
    "nyc_n_dissolve.head()"
   ]
  },
  {
   "cell_type": "code",
   "execution_count": null,
   "id": "248a88e7-497d-4517-a007-d10889c9c2f9",
   "metadata": {},
   "outputs": [],
   "source": [
    "roads_mask = roads.within(nyc_n_dissolve.loc[0,'geometry'])\n",
    "buildings_mask = buildings.within(nyc_n_dissolve.loc[0,'geometry'])\n",
    "\n",
    "roads_filtered = roads.loc[roads_mask]\n",
    "buildings_filtered = buildings.loc[buildings_mask]"
   ]
  },
  {
   "cell_type": "code",
   "execution_count": null,
   "id": "c0a39870-bbe2-478d-9d90-64a13dc65a25",
   "metadata": {},
   "outputs": [],
   "source": [
    "buildings_filtered = buildings_filtered[buildings_filtered.geometry.type != 'Point']"
   ]
  },
  {
   "cell_type": "code",
   "execution_count": null,
   "id": "0be82547-89e0-45f6-af1b-77e4578bf8cd",
   "metadata": {},
   "outputs": [],
   "source": [
    "# Reading in data on popular NYC Attractions\n",
    "nyc_attr = pd.read_csv(path + 'NYC Attractions\\\\NYC Attractions.csv')\n",
    "\n",
    "# Convert PDF to GPDF\n",
    "nyc_attr_gpdf =  gpd.GeoDataFrame(\n",
    "    nyc_attr,\n",
    "    geometry=gpd.points_from_xy(nyc_attr['Longitude'],\n",
    "                                   nyc_attr['Latitude'],\n",
    "                                   crs=\"EPSG:4326\")\n",
    ")"
   ]
  },
  {
   "cell_type": "code",
   "execution_count": null,
   "id": "ae581194-d4ff-49f8-9220-a24603254ce6",
   "metadata": {},
   "outputs": [],
   "source": [
    "attr_mask = nyc_attr_gpdf.within(nyc_n_dissolve.loc[0,'geometry'])\n",
    "attr_filtered = nyc_attr_gpdf.loc[attr_mask]"
   ]
  },
  {
   "cell_type": "code",
   "execution_count": null,
   "id": "6064691a-3dab-416d-bdca-7cdfd43ffe51",
   "metadata": {},
   "outputs": [],
   "source": [
    "f, ax = plt.subplots(1, figsize=(10, 10))\n",
    "   \n",
    "# Plot choropleth of local statistics\n",
    "nyc_attr_gpdf.plot(\n",
    "    color='black',\n",
    "    ax=ax\n",
    ")\n",
    "\n",
    "# Add basemap\n",
    "contextily.add_basemap(\n",
    "    ax,\n",
    "    crs=nyc_attr_gpdf.crs,\n",
    "    source=contextily.providers.OpenStreetMap.Mapnik,\n",
    ")"
   ]
  },
  {
   "cell_type": "code",
   "execution_count": null,
   "id": "b6634c56-2c89-4d62-9030-73e2bedbf116",
   "metadata": {},
   "outputs": [],
   "source": [
    "f, ax = plt.subplots(1, figsize=(10, 10))\n",
    "   \n",
    "# Plot choropleth of local statistics\n",
    "attr_filtered.plot(\n",
    "    color='black',\n",
    "    ax=ax\n",
    ")\n",
    "\n",
    "roads_filtered.plot(\n",
    "    color='blue',\n",
    "    ax=ax\n",
    ")\n",
    "\n",
    "# Add basemap\n",
    "contextily.add_basemap(\n",
    "    ax,\n",
    "    crs=nyc_attr_gpdf.crs,\n",
    "    source=contextily.providers.OpenStreetMap.Mapnik,\n",
    "    zoom=14\n",
    ")"
   ]
  },
  {
   "cell_type": "code",
   "execution_count": null,
   "id": "7bd041a2-8e96-4fde-b048-5a91662463a0",
   "metadata": {},
   "outputs": [],
   "source": [
    "f, ax = plt.subplots(1, figsize=(10, 10))\n",
    "   \n",
    "# Plot choropleth of local statistics\n",
    "attr_filtered.plot(\n",
    "    color='black',\n",
    "    ax=ax\n",
    ")\n",
    "\n",
    "roads_filtered.plot(\n",
    "    color='blue',\n",
    "    ax=ax\n",
    ")\n",
    "\n",
    "buildings_filtered.plot(\n",
    "    edgecolor='white', \n",
    "    linewidth=0.1, \n",
    "    alpha=0.75,\n",
    "    ax=ax\n",
    ")\n",
    "\n",
    "# Add basemap\n",
    "contextily.add_basemap(\n",
    "    ax,\n",
    "    crs=nyc_attr_gpdf.crs,\n",
    "    source=contextily.providers.OpenStreetMap.Mapnik,\n",
    "    zoom=14\n",
    ")"
   ]
  },
  {
   "cell_type": "code",
   "execution_count": null,
   "id": "6f982954-a348-40b1-be9c-df067e85cc79",
   "metadata": {},
   "outputs": [],
   "source": [
    "f, ax = plt.subplots(1, figsize=(10, 10))\n",
    "   \n",
    "# Plot choropleth of local statistics\n",
    "nyc_n.plot(\n",
    "    edgecolor='white', \n",
    "    linewidth=0.1, \n",
    "    alpha=0.75,\n",
    "    color='lightgreen',\n",
    "    ax=ax\n",
    ")\n",
    "\n",
    "attr_filtered.plot(\n",
    "    color='black',\n",
    "    ax=ax\n",
    ")\n",
    "\n",
    "roads_filtered.plot(\n",
    "    color='blue',\n",
    "    ax=ax\n",
    ")\n",
    "\n",
    "buildings_filtered.plot(\n",
    "    edgecolor='white', \n",
    "    linewidth=0.1, \n",
    "    alpha=0.75,\n",
    "    ax=ax\n",
    ")\n",
    "\n",
    "\n",
    "\n",
    "for idx, row in nyc_n.iterrows():\n",
    "    plt.annotate(text=row['neighborhood'], xy=tuple([row.geometry.centroid.x, row.geometry.centroid.y]),\n",
    "                 horizontalalignment='center',fontsize=15)\n",
    "\n",
    "\n",
    "# Add basemap\n",
    "contextily.add_basemap(\n",
    "    ax,\n",
    "    crs=nyc_attr_gpdf.crs,\n",
    "    source=contextily.providers.OpenStreetMap.Mapnik,\n",
    "    zoom=14\n",
    ")"
   ]
  },
  {
   "cell_type": "markdown",
   "id": "189cca19-fe1f-4af3-8140-98634a467f9c",
   "metadata": {},
   "source": [
    "# Raster Data Examples"
   ]
  },
  {
   "cell_type": "code",
   "execution_count": null,
   "id": "5551321b-29b0-4409-8dab-94f75130aef5",
   "metadata": {},
   "outputs": [],
   "source": [
    "import folium\n",
    "import geopandas as gpd\n",
    "from sentinelsat.sentinel import SentinelAPI\n",
    "import rasterio \n",
    "import matplotlib.pyplot as plt\n",
    "from rasterio import plot\n",
    "from rasterio.plot import show\n",
    "from rasterio.mask import mask\n",
    "from osgeo import gdal"
   ]
  },
  {
   "cell_type": "code",
   "execution_count": null,
   "id": "0fa9c314-0ef4-4611-acf7-de77ea9fea4c",
   "metadata": {},
   "outputs": [],
   "source": [
    "# Open Bands 4, 3 and 2 with Rasterio\n",
    "bands = path + r'S2B_MSIL2A_20220504T161829_N0400_R040_T17TNF_20220504T210702.SAFE\\\\GRANULE\\\\L2A_T17TLF_A038218_20221016T162311\\\\IMG_DATA\\\\R20m\\\\'\n",
    "b2 = rasterio.open(bands + 'T17TLF_20221016T162241_B02_20m.jp2')\n",
    "b3 = rasterio.open(bands + 'T17TLF_20221016T162241_B03_20m.jp2')\n",
    "b4 = rasterio.open(bands + 'T17TLF_20221016T162241_B04_20m.jp2')\n",
    "\n",
    "\n",
    "# Create an RGB image \n",
    "with rasterio.open(path + 'RGB_2.tif','w',driver='Gtiff', width=b4.width, height=b4.height, \n",
    "              count=3,crs=b4.crs,transform=b4.transform, dtype=b4.dtypes[0]) as rgb:\n",
    "    rgb.write(b2.read(1),1) \n",
    "    rgb.write(b3.read(1),2) \n",
    "    rgb.write(b4.read(1),3) \n",
    "    rgb.close()"
   ]
  },
  {
   "cell_type": "code",
   "execution_count": null,
   "id": "894e4bed-6acd-42a0-b518-1dbbb165b5f0",
   "metadata": {},
   "outputs": [],
   "source": [
    "bound_crs = boundary.to_crs('EPSG:32617')\n",
    "\n",
    "with rasterio.open(path + 'RGB_2.tif') as src:\n",
    "    out_image, out_transform = rasterio.mask.mask(src, bound_crs.geometry,crop=True)\n",
    "    out_meta = src.meta.copy()\n",
    "    out_meta.update({\"driver\": \"GTiff\",\n",
    "                 \"height\": out_image.shape[1],\n",
    "                 \"width\": out_image.shape[2],\n",
    "                 \"transform\": out_transform})\n",
    "    \n",
    "with rasterio.open(path + 'RGB_2_masked.tif', \"w\", **out_meta) as dest:\n",
    "    dest.write(out_image)"
   ]
  },
  {
   "cell_type": "code",
   "execution_count": null,
   "id": "b4d9f768-1bc3-4317-8b6d-987329c2c2af",
   "metadata": {},
   "outputs": [],
   "source": [
    "src = rasterio.open(path + 'RGB_2_masked.tif')\n",
    "plt.figure(figsize=(6,6))\n",
    "plt.title('Final Image')\n",
    "plot.show(src, adjust='linear')"
   ]
  },
  {
   "cell_type": "code",
   "execution_count": null,
   "id": "d61061a0-7308-4bd8-8bea-5d61566496ab",
   "metadata": {},
   "outputs": [],
   "source": [
    "# Read the grid values into numpy arrays\n",
    "red = src.read(3)\n",
    "green = src.read(2)\n",
    "blue = src.read(1)\n",
    "\n",
    "# Function to normalize the grid values\n",
    "def normalize(array):\n",
    "    \"\"\"Normalizes numpy arrays into scale 0.0 - 1.0\"\"\"\n",
    "    array_min, array_max = array.min(), array.max()\n",
    "    return ((array - array_min)/(array_max - array_min))\n",
    "\n",
    "# Normalize the bands\n",
    "redn = normalize(red)\n",
    "greenn = normalize(green)\n",
    "bluen = normalize(blue)\n",
    "\n",
    "print(\"Normalized bands\")\n",
    "print(redn.min(), '-', redn.max(), 'mean:', redn.mean())\n",
    "print(greenn.min(), '-', greenn.max(), 'mean:', greenn.mean())\n",
    "print(bluen.min(), '-', bluen.max(), 'mean:', bluen.mean())"
   ]
  },
  {
   "cell_type": "code",
   "execution_count": null,
   "id": "050848a2-8431-4865-9b3c-1c0af477620c",
   "metadata": {},
   "outputs": [],
   "source": [
    "# Create RGB natural color composite\n",
    "rgb = np.dstack((redn, greenn, bluen))\n",
    "\n",
    "# Let's see how our color composite looks like\n",
    "plt.imshow(rgb)"
   ]
  },
  {
   "cell_type": "code",
   "execution_count": null,
   "id": "d65db768-19c5-4d06-82c1-e12a5fc4d514",
   "metadata": {},
   "outputs": [],
   "source": []
  },
  {
   "cell_type": "code",
   "execution_count": null,
   "id": "7f3d9381-e420-4e82-b2a0-d90d9839ae87",
   "metadata": {},
   "outputs": [],
   "source": []
  }
 ],
 "metadata": {
  "kernelspec": {
   "display_name": "Python 3 (ipykernel)",
   "language": "python",
   "name": "python3"
  },
  "language_info": {
   "codemirror_mode": {
    "name": "ipython",
    "version": 3
   },
   "file_extension": ".py",
   "mimetype": "text/x-python",
   "name": "python",
   "nbconvert_exporter": "python",
   "pygments_lexer": "ipython3",
   "version": "3.10.8"
  }
 },
 "nbformat": 4,
 "nbformat_minor": 5
}
