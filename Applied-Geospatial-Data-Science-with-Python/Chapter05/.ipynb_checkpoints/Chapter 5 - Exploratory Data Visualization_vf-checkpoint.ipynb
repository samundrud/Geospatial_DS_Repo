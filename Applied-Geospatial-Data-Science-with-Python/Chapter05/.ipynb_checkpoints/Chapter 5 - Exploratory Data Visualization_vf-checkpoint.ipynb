{
 "cells": [
  {
   "cell_type": "code",
   "execution_count": null,
   "metadata": {},
   "outputs": [],
   "source": [
    "# Importing the requisite packages\n",
    "import pandas as pd\n",
    "import geopandas as gpd\n",
    "import matplotlib.pyplot as plt\n",
    "import pysal\n",
    "import splot"
   ]
  },
  {
   "cell_type": "code",
   "execution_count": null,
   "metadata": {},
   "outputs": [],
   "source": [
    "### Setting the file path\n",
    "data_path = r\"Your File Path\""
   ]
  },
  {
   "cell_type": "code",
   "execution_count": null,
   "metadata": {},
   "outputs": [],
   "source": [
    "# Reading in the data - REMINDER: You'll need to download this data yourself from InsideAirbnb\n",
    "listings = pd.read_csv(data_path + 'NY Airbnb June 2020\\listings.csv.gz', compression='gzip')"
   ]
  },
  {
   "cell_type": "markdown",
   "metadata": {},
   "source": [
    "## Exploratory Data Analysis"
   ]
  },
  {
   "cell_type": "code",
   "execution_count": null,
   "metadata": {},
   "outputs": [],
   "source": [
    "print(listings.columns)"
   ]
  },
  {
   "cell_type": "code",
   "execution_count": null,
   "metadata": {},
   "outputs": [],
   "source": [
    "# Subsetting the data\n",
    "\n",
    "listings_sub = listings[['id','property_type','neighbourhood_cleansed', 'neighbourhood_group_cleansed','beds','bathrooms', 'price','latitude','longitude']]\n",
    "\n",
    "listings_sub.head()"
   ]
  },
  {
   "cell_type": "code",
   "execution_count": null,
   "metadata": {},
   "outputs": [],
   "source": [
    "listings_sub.info()"
   ]
  },
  {
   "cell_type": "code",
   "execution_count": null,
   "metadata": {},
   "outputs": [],
   "source": [
    "# Cleaning the data\n",
    "listings_sub.drop(columns=['beds','bathrooms'], inplace=True)\n",
    "listings_sub[\"price\"] = listings_sub[\"price\"].replace(\"[$,]\", \"\", regex=True).astype(float)"
   ]
  },
  {
   "cell_type": "code",
   "execution_count": null,
   "metadata": {},
   "outputs": [],
   "source": [
    "listings_sub"
   ]
  },
  {
   "cell_type": "code",
   "execution_count": null,
   "metadata": {},
   "outputs": [],
   "source": [
    "listings_sub['price'].describe()"
   ]
  },
  {
   "cell_type": "code",
   "execution_count": null,
   "metadata": {},
   "outputs": [],
   "source": [
    "%matplotlib inline\n",
    "plt.hist(listings_sub['price'], bins=25, density=True, alpha=0.6)\n",
    "plt.show()"
   ]
  },
  {
   "cell_type": "code",
   "execution_count": null,
   "metadata": {},
   "outputs": [],
   "source": [
    "import seaborn as sns\n",
    "sns.distplot(listings_sub['price'], kde=True)\n",
    "plt.show()"
   ]
  },
  {
   "cell_type": "markdown",
   "metadata": {},
   "source": [
    "## Exploratory Spatial Data Analysis"
   ]
  },
  {
   "cell_type": "code",
   "execution_count": null,
   "metadata": {},
   "outputs": [],
   "source": [
    "# Convert the pandas dataframe to a geopandas dataframe\n",
    "listings_sub_gpd = gpd.GeoDataFrame(listings_sub, geometry=gpd.points_from_xy(listings_sub.longitude, listings_sub.latitude, crs=4326))"
   ]
  },
  {
   "cell_type": "code",
   "execution_count": null,
   "metadata": {},
   "outputs": [],
   "source": [
    "import geoplot.crs as gcrs\n",
    "import geoplot as gplt\n",
    "ax = gplt.webmap(listings_sub_gpd,projection=gcrs.WebMercator())\n",
    "gplt.pointplot(listings_sub_gpd, ax=ax)"
   ]
  },
  {
   "cell_type": "code",
   "execution_count": null,
   "metadata": {},
   "outputs": [],
   "source": [
    "# Reading in the New York Census Tracts\n",
    "NY_tracts_path = \"https://www2.census.gov/geo/tiger/TIGER2021/TRACT/tl_2021_36_tract.zip\"\n",
    "NY_Tracts = gpd.read_file(NY_tracts_path)\n",
    "NY_Tracts = NY_Tracts.to_crs(4326)\n",
    "\n",
    "# Subsetting the census tracts to those in the New York CBSA\n",
    "cbsa_path = 'https://www2.census.gov/geo/tiger/TIGER2021/CBSA/tl_2021_us_cbsa.zip'\n",
    "cbsas = gpd.read_file(cbsa_path)\n",
    "NY_cbsa = cbsas[cbsas['GEOID']=='35620']"
   ]
  },
  {
   "cell_type": "code",
   "execution_count": null,
   "metadata": {},
   "outputs": [],
   "source": [
    "# Borough Boundaries\n",
    "Boroughs = gpd.read_file(data_path + r\"NYC Boroughs\\nybb_22a\\nybb.shp\")\n",
    "Boroughs = Boroughs.to_crs(4326)\n",
    "Boroughs.plot()"
   ]
  },
  {
   "cell_type": "code",
   "execution_count": null,
   "metadata": {},
   "outputs": [],
   "source": [
    "# Creating a heatmap of Airbnb locations\n",
    "\n",
    "# Creating a heatmap raster from the points\n",
    "ax = gplt.kdeplot(\n",
    "    listings_sub_gpd,shade=True, cmap='Reds',\n",
    "    clip=Boroughs.geometry,\n",
    "    projection=gcrs.WebMercator())\n",
    "\n",
    "# Plotting the heatmap on top of the boroughs for context\n",
    "gplt.polyplot(Boroughs, ax=ax, zorder=1)"
   ]
  },
  {
   "cell_type": "code",
   "execution_count": null,
   "metadata": {},
   "outputs": [],
   "source": [
    "# Reading in the New York Census Tracts\n",
    "NY_tracts_path = \"https://www2.census.gov/geo/tiger/TIGER2021/TRACT/tl_2021_36_tract.zip\"\n",
    "NY_Tracts = gpd.read_file(NY_tracts_path)\n",
    "NY_Tracts = NY_Tracts.to_crs(4326)\n",
    "\n",
    "# Subsetting the census tracts to those in the New York CBSA\n",
    "cbsa_path = 'https://www2.census.gov/geo/tiger/TIGER2021/CBSA/tl_2021_us_cbsa.zip'\n",
    "cbsas = gpd.read_file(cbsa_path)\n",
    "NY_cbsa = cbsas[cbsas['GEOID']=='35620']\n",
    "\n",
    "mask = NY_Tracts.intersects(NY_cbsa.loc[620,'geometry'])\n",
    "NY_Tracts_subset = NY_Tracts.loc[mask]\n",
    "\n",
    "# Aggregating the airbnb locations to the NY census tracts\n",
    "NY_Tracts_sj = gpd.sjoin(NY_Tracts_subset, listings_sub_gpd, how='left', op='contains')\n",
    "NY_Tracts_sj = NY_Tracts_sj[['GEOID','price','geometry']]\n",
    "NY_Tracts_Agg = NY_Tracts_sj.dissolve(by='GEOID', aggfunc='mean')\n",
    "\n",
    "NY_Tracts_Agg"
   ]
  },
  {
   "cell_type": "code",
   "execution_count": null,
   "metadata": {},
   "outputs": [],
   "source": [
    "gplt.choropleth(NY_Tracts_Agg, hue=\"price\", cmap=\"Greens\", figsize=(60,30), legend=True)"
   ]
  },
  {
   "cell_type": "code",
   "execution_count": null,
   "metadata": {},
   "outputs": [],
   "source": [
    "import geoviews\n",
    "geoviews.extension(\"bokeh\")\n",
    "\n",
    "choropleth = geoviews.Polygons(data=NY_Tracts_Agg, vdims=[\"price\",\"GEOID\"])\n",
    "\n",
    "choropleth.opts(height=600, width=900, title=\"NYC Airbnb Price\",\n",
    "                tools=[\"hover\"], cmap=\"Greens\", colorbar=True, colorbar_position=\"bottom\")"
   ]
  },
  {
   "cell_type": "code",
   "execution_count": null,
   "metadata": {},
   "outputs": [],
   "source": [
    "import statistics\n",
    "\n",
    "# Calculating the mean and standard deviation\n",
    "mean_price = statistics.mean(NY_Tracts_Agg['price'].dropna())\n",
    "stdev = statistics.stdev(NY_Tracts_Agg['price'].dropna())\n",
    "\n",
    "print(\"The mean Airbnb price is: % s \" % (round(mean_price, 2)))\n",
    "print(\"The standard deviation of Airbnb prices is: % s \" % (round(stdev, 2)))\n",
    "\n",
    "# Droping records that are more than 1 standard deviation from the mean\n",
    "NY_Tracts_Agg_filtered = NY_Tracts_Agg[NY_Tracts_Agg['price'] < mean_price+stdev]\n",
    "\n",
    "choropleth = geoviews.Polygons(data=NY_Tracts_Agg_filtered, vdims=[\"price\",\"GEOID\"])\n",
    "\n",
    "choropleth.opts(height=600, width=900, title=\"NYC Airbnb Price\",\n",
    "                tools=[\"hover\"], cmap=\"Greens\", colorbar=True, colorbar_position=\"bottom\")"
   ]
  },
  {
   "cell_type": "code",
   "execution_count": null,
   "metadata": {},
   "outputs": [],
   "source": []
  }
 ],
 "metadata": {
  "kernelspec": {
   "display_name": "Python 3 (ipykernel)",
   "language": "python",
   "name": "python3"
  },
  "language_info": {
   "codemirror_mode": {
    "name": "ipython",
    "version": 3
   },
   "file_extension": ".py",
   "mimetype": "text/x-python",
   "name": "python",
   "nbconvert_exporter": "python",
   "pygments_lexer": "ipython3",
   "version": "3.10.8"
  }
 },
 "nbformat": 4,
 "nbformat_minor": 4
}
