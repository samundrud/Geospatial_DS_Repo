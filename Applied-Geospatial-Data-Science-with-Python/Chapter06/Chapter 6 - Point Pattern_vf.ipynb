{
 "cells": [
  {
   "cell_type": "code",
   "execution_count": null,
   "id": "3dc795a9",
   "metadata": {},
   "outputs": [],
   "source": [
    "### Importing the requisite packages\n",
    "\n",
    "#Data management\n",
    "import geopandas as gpd\n",
    "import numpy as np\n",
    "import pandas as pd\n",
    "\n",
    "# Visualization\n",
    "import seaborn\n",
    "import contextily\n",
    "import matplotlib.pyplot as plt\n",
    "\n",
    "# Spatial Statistics\n",
    "from pointpats import distance_statistics, QStatistic, random, PointPattern, PoissonPointProcess, PoissonClusterPointProcess, Window, poly_from_bbox\n",
    "import libpysal as ps\n",
    "from libpysal.cg import shapely_ext\n",
    "\n",
    "# Setting matplotlib jupyter options to show plots in notebook\n",
    "%matplotlib inline"
   ]
  },
  {
   "cell_type": "code",
   "execution_count": null,
   "id": "cce868bb",
   "metadata": {},
   "outputs": [],
   "source": [
    "### Reading in the data\n",
    "data_path = r'YOUR FILE PATH'"
   ]
  },
  {
   "cell_type": "code",
   "execution_count": null,
   "id": "0bedc79e",
   "metadata": {},
   "outputs": [],
   "source": [
    "ohio = gpd.read_file(data_path + 'Ohio\\Ohio.shp')\n",
    "ohio_st = ohio.dissolve()\n",
    "ohio_st"
   ]
  },
  {
   "cell_type": "code",
   "execution_count": null,
   "id": "00ba4a98",
   "metadata": {},
   "outputs": [],
   "source": [
    "# Access shapefile of the state of ohio\n",
    "oh = ps.io.open(data_path + 'Ohio\\Ohio.shp')\n",
    "polys = [shp for shp in oh]"
   ]
  },
  {
   "cell_type": "code",
   "execution_count": null,
   "id": "0ae50c8e",
   "metadata": {},
   "outputs": [],
   "source": [
    "state = shapely_ext.cascaded_union(polys)\n",
    "\n",
    "# create window from ohio state boundary\n",
    "window = Window(state.parts)"
   ]
  },
  {
   "cell_type": "code",
   "execution_count": null,
   "id": "faec4bde",
   "metadata": {},
   "outputs": [],
   "source": [
    "# Here, we're simulating a csr process in the window being Ohio (200 points, 1 realization)\n",
    "# setting \"asPP\" True generates a point pattern\n",
    "# setting \"conditioning\" to false simulates a N-conditioned CSR\n",
    "np.random.seed(5)\n",
    "samples = PoissonPointProcess(window, 200, 1, conditioning=False, asPP=True)\n",
    "\n",
    "pp_csr = samples.realizations[0] # simulated point pattern\n",
    "\n",
    "pp_csr.plot(window=True, hull=False, title='Random Point Pattern')"
   ]
  },
  {
   "cell_type": "code",
   "execution_count": null,
   "id": "8337a73b",
   "metadata": {},
   "outputs": [],
   "source": [
    "np.random.seed(10)\n",
    "csamples = PoissonClusterPointProcess(window, 200, 5, 0.5, 1, asPP=True)\n",
    "pp_pcp = csamples.realizations[0]\n",
    "pp_pcp.plot(window=True, hull=False, title='Clustered Point Pattern')"
   ]
  },
  {
   "cell_type": "code",
   "execution_count": null,
   "id": "ba2506b7",
   "metadata": {},
   "outputs": [],
   "source": [
    "# Reading in the data from the path\n",
    "locs_pdf = pd.read_csv(data_path + 'OSM_DollarGeneralLocs.csv')\n",
    "\n",
    "# Converting the pandas dataframe into a geopandas geodataframe\n",
    "locs_gdf = gpd.GeoDataFrame(\n",
    "    locs_pdf, geometry=gpd.points_from_xy(locs_pdf.X, locs_pdf.Y),\n",
    "    crs=\"EPSG:4326\"\n",
    ")"
   ]
  },
  {
   "cell_type": "code",
   "execution_count": null,
   "id": "84f697da",
   "metadata": {},
   "outputs": [],
   "source": [
    "# Create an initial visualization of the data \n",
    "f, ax = plt.subplots(1, figsize=(8, 8))\n",
    "ohio_st.plot(ax = ax,color=None, zorder=1)\n",
    "locs_gdf.plot(ax = ax, zorder=2, color='black', markersize=8)"
   ]
  },
  {
   "cell_type": "code",
   "execution_count": null,
   "id": "bd7158cc",
   "metadata": {},
   "outputs": [],
   "source": [
    "# Create a better visualization\n",
    "joint_axes = seaborn.jointplot(\n",
    "    x=locs_gdf.geometry.x, \n",
    "    y=locs_gdf.geometry.y, \n",
    "    data=locs_gdf, \n",
    "    s=5, \n",
    "    height=7,\n",
    "color='k');\n",
    "\n",
    "contextily.add_basemap(\n",
    "    joint_axes.ax_joint,\n",
    "    crs=\"EPSG:4326\",\n",
    "    source=contextily.providers.Stamen.TonerLite\n",
    ");\n"
   ]
  },
  {
   "cell_type": "markdown",
   "id": "82ab5958",
   "metadata": {},
   "source": [
    "## Ripley's Alphabet"
   ]
  },
  {
   "cell_type": "markdown",
   "id": "a7373570",
   "metadata": {},
   "source": [
    "### Ripley's G"
   ]
  },
  {
   "cell_type": "code",
   "execution_count": null,
   "id": "2959ee22",
   "metadata": {},
   "outputs": [],
   "source": [
    "g_test = distance_statistics.g_test(\n",
    "    locs_gdf[['X','Y']].values, support=40, keep_simulations=True\n",
    ")"
   ]
  },
  {
   "cell_type": "code",
   "execution_count": null,
   "id": "27a579fa",
   "metadata": {},
   "outputs": [],
   "source": [
    "plt.plot(g_test.support, np.median(g_test.simulations, axis=0), \n",
    "         color='k', label='Simulated Data')\n",
    "plt.plot(g_test.support, g_test.statistic, \n",
    "         marker='x', color='orangered', label='Observed Data')\n",
    "plt.legend()\n",
    "plt.xlabel('Distance')\n",
    "plt.ylabel('Ripleys G Function')\n",
    "plt.title('Ripleys G Function Plot')\n",
    "plt.show()"
   ]
  },
  {
   "cell_type": "markdown",
   "id": "3928854a",
   "metadata": {},
   "source": [
    "### Ripley's K"
   ]
  },
  {
   "cell_type": "code",
   "execution_count": null,
   "id": "ea4d7153",
   "metadata": {},
   "outputs": [],
   "source": [
    "k_test = distance_statistics.k_test(locs_gdf[['X','Y']].values, keep_simulations=True)"
   ]
  },
  {
   "cell_type": "code",
   "execution_count": null,
   "id": "5341c903",
   "metadata": {},
   "outputs": [],
   "source": [
    "plt.plot(k_test.support, k_test.simulations.T, color='k', alpha=.01)\n",
    "plt.plot(k_test.support, k_test.statistic, color='orange')\n",
    "\n",
    "plt.scatter(k_test.support, k_test.statistic, \n",
    "            cmap='viridis', c=k_test.pvalue < .05,\n",
    "            zorder=4\n",
    "           )\n",
    "\n",
    "plt.xlabel('Distance')\n",
    "plt.ylabel('Ripleys K Function')\n",
    "plt.title('Ripleys K Function Plot')\n",
    "plt.show()"
   ]
  },
  {
   "cell_type": "code",
   "execution_count": null,
   "id": "397c6e2f",
   "metadata": {},
   "outputs": [],
   "source": []
  }
 ],
 "metadata": {
  "kernelspec": {
   "display_name": "Python 3 (ipykernel)",
   "language": "python",
   "name": "python3"
  },
  "language_info": {
   "codemirror_mode": {
    "name": "ipython",
    "version": 3
   },
   "file_extension": ".py",
   "mimetype": "text/x-python",
   "name": "python",
   "nbconvert_exporter": "python",
   "pygments_lexer": "ipython3",
   "version": "3.10.8"
  }
 },
 "nbformat": 4,
 "nbformat_minor": 5
}
