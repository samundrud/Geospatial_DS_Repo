{
 "cells": [
  {
   "cell_type": "code",
   "execution_count": null,
   "id": "9e09f545",
   "metadata": {},
   "outputs": [],
   "source": [
    "import geopandas as gpd"
   ]
  },
  {
   "cell_type": "code",
   "execution_count": null,
   "id": "7095586f",
   "metadata": {},
   "outputs": [],
   "source": [
    "### Setting the data path\n",
    "data_path = r'YOUR FILE PATH'\n",
    "\n",
    "# Setting the folder we want to write the output data to\n",
    "out_path = r\"YOUR FILE PATH\""
   ]
  },
  {
   "cell_type": "markdown",
   "id": "6aaf5ce0",
   "metadata": {},
   "source": [
    "## Reading geospatial data with GeoPandas"
   ]
  },
  {
   "cell_type": "code",
   "execution_count": null,
   "id": "6f9a8f83",
   "metadata": {},
   "outputs": [],
   "source": [
    "# Reading data stored as a shapefile without specifying that it is a shapefile\n",
    "capitals = gpd.read_file(data_path + 'Graticule\\\\ne_110m_graticules_10.shp')"
   ]
  },
  {
   "cell_type": "code",
   "execution_count": null,
   "id": "c37d4216",
   "metadata": {},
   "outputs": [],
   "source": [
    "# Reading data stored as a shapefile and specifying that it is a shapefile\n",
    "capitals = gpd.read_file(data_path + 'Graticule\\\\ne_110m_graticules_10.shp', driver='shapefile')"
   ]
  },
  {
   "cell_type": "code",
   "execution_count": null,
   "id": "b918d641",
   "metadata": {},
   "outputs": [],
   "source": [
    "# Reading from a URL\n",
    "url = \"https://d2ad6b4ur7yvpq.cloudfront.net/naturalearth-3.3.0/ne_110m_admin_1_states_provinces_shp.geojson\"\n",
    "us_states = gpd.read_file(url)"
   ]
  },
  {
   "cell_type": "code",
   "execution_count": null,
   "id": "cc443392",
   "metadata": {},
   "outputs": [],
   "source": [
    "# Reading in data stored in a zipped file\n",
    "us_cbsas = gpd.read_file(data_path + 'tl_2021_us_cbsa.zip')"
   ]
  },
  {
   "cell_type": "markdown",
   "id": "f0ddc268",
   "metadata": {},
   "source": [
    "### Filtering using the mask parameter"
   ]
  },
  {
   "cell_type": "code",
   "execution_count": null,
   "id": "1b06a321",
   "metadata": {},
   "outputs": [],
   "source": [
    "# Read in the US States file from the Census Tiger Files saved as a zip\n",
    "us_states = gpd.read_file(data_path + 'tl_2021_us_state.zip')\n",
    "\n",
    "# Filter the US States file to be just California\n",
    "california = us_states[us_states['NAME']==\"California\"] \n",
    "\n",
    "# Show the dataframe  \n",
    "california.head()"
   ]
  },
  {
   "cell_type": "code",
   "execution_count": null,
   "id": "6cc877bb",
   "metadata": {},
   "outputs": [],
   "source": [
    "# Create a new geopandas dataframe that only includes the CBSAs that are in California using the geopandas mask parameter and passing the previously defined california geopandas dataframe\n",
    "ca_cbsas = gpd.read_file(data_path + 'tl_2021_us_cbsa.zip', mask=california)\n",
    "\n",
    "# Show the first 5 records of the ca_cbsas geopandas dataframe\n",
    "ca_cbsas.head()"
   ]
  },
  {
   "cell_type": "code",
   "execution_count": null,
   "id": "76165a1b",
   "metadata": {},
   "outputs": [],
   "source": [
    "len(ca_cbsas)"
   ]
  },
  {
   "cell_type": "markdown",
   "id": "40979399",
   "metadata": {},
   "source": [
    "### Filtering using the bounding box parameter"
   ]
  },
  {
   "cell_type": "code",
   "execution_count": null,
   "id": "de910bc5",
   "metadata": {},
   "outputs": [],
   "source": [
    "# Defining the bounding box\n",
    "bounding_box = (-123.82239, 42.15933, -123.82246, 38.7)\n",
    "\n",
    "#Reading in the CA_CBSAs and filtering based on the bounding box\n",
    "cbsas_bbox = gpd.read_file(data_path + 'tl_2021_us_cbsa.zip', bbox=bounding_box)\n",
    "\n",
    "# Showing the first 5 rows of the filtered dataframe\n",
    "cbsas_bbox.head()"
   ]
  },
  {
   "cell_type": "markdown",
   "id": "3894d767",
   "metadata": {},
   "source": [
    "## Writing geospatial data with GeoPandas"
   ]
  },
  {
   "cell_type": "code",
   "execution_count": null,
   "id": "1ba57087",
   "metadata": {},
   "outputs": [],
   "source": [
    "# Writing out the data as a shape file\n",
    "ca_cbsas.to_file(out_path+\"ca_cbsas.shp\")"
   ]
  },
  {
   "cell_type": "code",
   "execution_count": null,
   "id": "778051f2",
   "metadata": {},
   "outputs": [],
   "source": [
    "# Writing out the data as a shape file\n",
    "cbsas_bbox.to_file(out_path+\"cbsas_bbox.geojson\", driver=\"GeoJSON\")"
   ]
  },
  {
   "cell_type": "markdown",
   "id": "f94a529f",
   "metadata": {},
   "source": [
    "## Geometric Manipulations"
   ]
  },
  {
   "cell_type": "code",
   "execution_count": null,
   "id": "c751095f",
   "metadata": {},
   "outputs": [],
   "source": [
    "from shapely.geometry import Point, LineString, Polygon\n",
    "\n",
    "s = gpd.GeoSeries(\n",
    "    [\n",
    "        Point(1, 5),\n",
    "        LineString([(2, -1), (3, 0), (5, 0), (4, 2)]),\n",
    "        Polygon([(5, -2), (3, 5), (5, 2)]),\n",
    "    ]\n",
    ")\n",
    "\n",
    "s[1]"
   ]
  },
  {
   "cell_type": "markdown",
   "id": "087e594d",
   "metadata": {},
   "source": [
    "### Performing Buffer"
   ]
  },
  {
   "cell_type": "code",
   "execution_count": null,
   "id": "1f83eb79",
   "metadata": {},
   "outputs": [],
   "source": [
    "s_b = s.buffer(.4)\n",
    "s_b[1]"
   ]
  },
  {
   "cell_type": "markdown",
   "id": "51cb7161",
   "metadata": {},
   "source": [
    "### Performing a dissolve operation"
   ]
  },
  {
   "cell_type": "code",
   "execution_count": null,
   "id": "d04f6e25",
   "metadata": {},
   "outputs": [],
   "source": [
    "us_states = gpd.read_file(data_path + 'tl_2021_us_state.zip')\n",
    "\n",
    "# Filtering out territories \n",
    "us_states = us_states[~us_states['STUSPS'].isin(['MP','VI','GU','AS','PR'])]\n",
    "\n",
    "# Setting the PCS\n",
    "us_states = us_states.to_crs('ESRI:54032')\n",
    "us_states.plot()"
   ]
  },
  {
   "cell_type": "code",
   "execution_count": null,
   "id": "9a16523a",
   "metadata": {},
   "outputs": [],
   "source": [
    "us_states_d = us_states.dissolve()\n",
    "us_states_d.plot()"
   ]
  },
  {
   "cell_type": "markdown",
   "id": "0777ceee",
   "metadata": {},
   "source": [
    "### Simplifying the geometry"
   ]
  },
  {
   "cell_type": "code",
   "execution_count": null,
   "id": "d7881833",
   "metadata": {},
   "outputs": [],
   "source": [
    "LA = us_states[us_states['STUSPS']=='LA']\n",
    "LA.plot()"
   ]
  },
  {
   "cell_type": "code",
   "execution_count": null,
   "id": "c29b0d02",
   "metadata": {},
   "outputs": [],
   "source": [
    "LA_s = LA.simplify(tolerance=10000)\n",
    "LA_s.plot()"
   ]
  },
  {
   "cell_type": "markdown",
   "id": "8ab04681",
   "metadata": {},
   "source": [
    "## Ploting Geospatial Data"
   ]
  },
  {
   "cell_type": "code",
   "execution_count": null,
   "id": "1c893ad6",
   "metadata": {},
   "outputs": [],
   "source": [
    "# Basic map of California CBSAs\n",
    "ca_cbsas.plot()"
   ]
  },
  {
   "cell_type": "code",
   "execution_count": null,
   "id": "36805cb6",
   "metadata": {
    "scrolled": true
   },
   "outputs": [],
   "source": [
    "# Choropleth Map of the world's population \n",
    "\n",
    "# Reading in the natural earth lowres data\n",
    "world = gpd.read_file(gpd.datasets.get_path('naturalearth_lowres'))\n",
    "\n",
    "# Plotting the data colored by the pop_est GeoSeries\n",
    "world.plot(column='pop_est')"
   ]
  },
  {
   "cell_type": "code",
   "execution_count": null,
   "id": "e7005023",
   "metadata": {},
   "outputs": [],
   "source": [
    "world.head()"
   ]
  },
  {
   "cell_type": "code",
   "execution_count": null,
   "id": "e33e6c28",
   "metadata": {},
   "outputs": [],
   "source": [
    "continents = world.dissolve(by=\"continent\")\n",
    "continents.head()"
   ]
  },
  {
   "cell_type": "code",
   "execution_count": null,
   "id": "f39dfb93",
   "metadata": {},
   "outputs": [],
   "source": [
    "continents.plot()"
   ]
  },
  {
   "cell_type": "markdown",
   "id": "045f358b",
   "metadata": {},
   "source": [
    "### Geocoding"
   ]
  },
  {
   "cell_type": "code",
   "execution_count": null,
   "id": "cc25dbfa",
   "metadata": {},
   "outputs": [],
   "source": [
    "import pandas as pd\n",
    "dc_attractions = pd.read_csv(data_path + 'DC_Attractions.csv')\n",
    "dc_attractions.head()"
   ]
  },
  {
   "cell_type": "code",
   "execution_count": null,
   "id": "e1dc2cff",
   "metadata": {},
   "outputs": [],
   "source": [
    "from geopandas.tools import geocode\n",
    "\n",
    "# Geocode addresses using Nominatim. Remember to provide a custom \"application name\" in the user_agent parameter!\n",
    "dc_attractions_gpd = geocode(dc_attractions['Address'], provider='openmapquest', timeout=4, api_key=\"API KEY\")\n",
    "dc_attractions_gpd.head()"
   ]
  },
  {
   "cell_type": "code",
   "execution_count": null,
   "id": "1df7e530",
   "metadata": {},
   "outputs": [],
   "source": [
    "dc_attractions_gpd.plot()"
   ]
  },
  {
   "cell_type": "code",
   "execution_count": null,
   "id": "18d05b70-5c18-4515-89f2-28b03b71b69e",
   "metadata": {},
   "outputs": [],
   "source": []
  }
 ],
 "metadata": {
  "kernelspec": {
   "display_name": "Python 3 (ipykernel)",
   "language": "python",
   "name": "python3"
  },
  "language_info": {
   "codemirror_mode": {
    "name": "ipython",
    "version": 3
   },
   "file_extension": ".py",
   "mimetype": "text/x-python",
   "name": "python",
   "nbconvert_exporter": "python",
   "pygments_lexer": "ipython3",
   "version": "3.10.8"
  }
 },
 "nbformat": 4,
 "nbformat_minor": 5
}
