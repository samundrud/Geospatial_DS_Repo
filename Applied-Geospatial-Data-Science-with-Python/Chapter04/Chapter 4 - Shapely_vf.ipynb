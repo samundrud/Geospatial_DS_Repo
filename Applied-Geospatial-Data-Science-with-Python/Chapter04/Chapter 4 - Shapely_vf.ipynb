{
 "cells": [
  {
   "cell_type": "code",
   "execution_count": null,
   "id": "87f8d074",
   "metadata": {},
   "outputs": [],
   "source": [
    "# importing shapely subpackages\n",
    "import shapely.geometry\n",
    "import shapely.wkt"
   ]
  },
  {
   "cell_type": "code",
   "execution_count": null,
   "id": "aabe1a1f",
   "metadata": {},
   "outputs": [],
   "source": [
    "# Creating a polygon from Well Known Text\n",
    "s_poly1 = shapely.wkt.loads(\"POLYGON ((0 0, 0 -2, 9 -2, 9 0, 0 0))\")\n",
    "s_poly1"
   ]
  },
  {
   "cell_type": "code",
   "execution_count": null,
   "id": "62c09764",
   "metadata": {},
   "outputs": [],
   "source": [
    "# If you don't repeat the first and last coordiante to close the polygon, Shapely will throw an error.\n",
    "s_poly2 = shapely.wkt.loads(\"POLYGON ((0 0, 0 -2, 9 -2, 9 0))\")\n",
    "s_poly2"
   ]
  },
  {
   "cell_type": "code",
   "execution_count": null,
   "id": "5ed2416e",
   "metadata": {},
   "outputs": [],
   "source": [
    "# Creating the same polygon from GeoJSON\n",
    "from shapely.geometry import Polygon\n",
    "geo = {'type': 'Polygon',\n",
    " 'coordinates': [[[0, 0],\n",
    "   [0, -2],\n",
    "   [9, -2],\n",
    "   [9, 0]]]}\n",
    "Polygon([tuple(l) for l in geo['coordinates'][0]])"
   ]
  },
  {
   "cell_type": "code",
   "execution_count": null,
   "id": "9e1e22e1",
   "metadata": {},
   "outputs": [],
   "source": [
    "# Shapely Multi-Polygon\n",
    "s_poly3 = shapely.wkt.loads(\"\"\"\n",
    "MULTIPOLYGON\n",
    "(((50 40, 20 45, 45 30, 50 40)),\n",
    "((25 35, 10 30, 10 18, 30 5, 45 20, 25 35), (32 20, 26 15, 20 25, 32 20)))\n",
    "\"\"\")\n",
    "s_poly3"
   ]
  },
  {
   "cell_type": "code",
   "execution_count": null,
   "id": "438c3a80",
   "metadata": {},
   "outputs": [],
   "source": [
    "# Produce a Shapely LineString geometry from a list of coordinates\n",
    "coords = [(5, 0.5), (5, 3), (-2, 0), (8, 0)]\n",
    "line = shapely.geometry.LineString(coords)\n",
    "line"
   ]
  }
 ],
 "metadata": {
  "kernelspec": {
   "display_name": "Python 3 (ipykernel)",
   "language": "python",
   "name": "python3"
  },
  "language_info": {
   "codemirror_mode": {
    "name": "ipython",
    "version": 3
   },
   "file_extension": ".py",
   "mimetype": "text/x-python",
   "name": "python",
   "nbconvert_exporter": "python",
   "pygments_lexer": "ipython3",
   "version": "3.10.8"
  }
 },
 "nbformat": 4,
 "nbformat_minor": 5
}
