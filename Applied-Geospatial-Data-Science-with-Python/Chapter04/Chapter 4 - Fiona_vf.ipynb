{
 "cells": [
  {
   "cell_type": "code",
   "execution_count": null,
   "id": "78871fec",
   "metadata": {},
   "outputs": [],
   "source": [
    "# Importing Fiona\n",
    "import fiona"
   ]
  },
  {
   "cell_type": "code",
   "execution_count": null,
   "id": "9be4a881",
   "metadata": {},
   "outputs": [],
   "source": [
    "### Setting the data path\n",
    "data_path = r'YOUR FILE PATH'"
   ]
  },
  {
   "cell_type": "code",
   "execution_count": null,
   "id": "72d7c3d3",
   "metadata": {},
   "outputs": [],
   "source": [
    "# Reading in the CBSA file\n",
    "f_obj = fiona.open(data_path + 'CA_CBSAs\\ca_cbsas.shp', 'r')\n",
    "f_obj"
   ]
  },
  {
   "cell_type": "code",
   "execution_count": null,
   "id": "265e0d3b",
   "metadata": {},
   "outputs": [],
   "source": [
    "next(f_obj)"
   ]
  },
  {
   "cell_type": "code",
   "execution_count": null,
   "id": "e6f1f82b",
   "metadata": {},
   "outputs": [],
   "source": [
    "len(f_obj)"
   ]
  },
  {
   "cell_type": "code",
   "execution_count": null,
   "id": "dcb83c23",
   "metadata": {},
   "outputs": [],
   "source": []
  }
 ],
 "metadata": {
  "kernelspec": {
   "display_name": "Python 3 (ipykernel)",
   "language": "python",
   "name": "python3"
  },
  "language_info": {
   "codemirror_mode": {
    "name": "ipython",
    "version": 3
   },
   "file_extension": ".py",
   "mimetype": "text/x-python",
   "name": "python",
   "nbconvert_exporter": "python",
   "pygments_lexer": "ipython3",
   "version": "3.10.8"
  }
 },
 "nbformat": 4,
 "nbformat_minor": 5
}
