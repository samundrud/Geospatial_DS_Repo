{
 "cells": [
  {
   "cell_type": "code",
   "execution_count": null,
   "id": "60559fc7",
   "metadata": {},
   "outputs": [],
   "source": [
    "# Importing the requisite packages\n",
    "import pandas as pd\n",
    "import geopandas as gpd\n",
    "from geopandas.tools import geocode"
   ]
  },
  {
   "cell_type": "markdown",
   "id": "6b29b19e",
   "metadata": {},
   "source": [
    "# Reading in the data and geocoding"
   ]
  },
  {
   "cell_type": "code",
   "execution_count": null,
   "id": "a24fdd18",
   "metadata": {},
   "outputs": [],
   "source": [
    "path = r'G:\\My Drive\\Geospatial Data Science with Python\\Data\\\\'"
   ]
  },
  {
   "cell_type": "code",
   "execution_count": null,
   "id": "ef894053",
   "metadata": {},
   "outputs": [],
   "source": [
    "dc_attractions = pd.read_csv(path + 'DC_Attractions.csv')\n",
    "dc_attractions.head()"
   ]
  },
  {
   "cell_type": "code",
   "execution_count": null,
   "id": "8b7cb41e",
   "metadata": {},
   "outputs": [],
   "source": [
    "# Geocode addresses using Nominatim. Remember to provide a custom \"application name\" in the user_agent parameter!\n",
    "dc_attractions_gpd = geocode(dc_attractions['Address'], provider='openmapquest', timeout=4, api_key=\"ZO5OH4wdsrGzmZL75HR5zKqcy9bUF0P9\")\n",
    "dc_attractions_gpd.head()"
   ]
  },
  {
   "cell_type": "markdown",
   "id": "32dc56e4",
   "metadata": {},
   "source": [
    "# Performing join"
   ]
  },
  {
   "cell_type": "code",
   "execution_count": null,
   "id": "dd555c7a",
   "metadata": {},
   "outputs": [],
   "source": [
    "final_gpd = dc_attractions_gpd.merge(dc_attractions[['Attraction']], how='left',left_index=True, right_index = True)\n",
    "final_gpd.head()"
   ]
  },
  {
   "cell_type": "markdown",
   "id": "9c08a244",
   "metadata": {},
   "source": [
    "# Performing Boolean Filtering"
   ]
  },
  {
   "cell_type": "code",
   "execution_count": null,
   "id": "c281e2bb",
   "metadata": {},
   "outputs": [],
   "source": [
    "wh = final_gpd[final_gpd['Attraction'] == 'White House']\n",
    "wh.head()"
   ]
  },
  {
   "cell_type": "code",
   "execution_count": null,
   "id": "827314cc",
   "metadata": {},
   "outputs": [],
   "source": [
    "final_gpd['Attraction'] == 'White House'"
   ]
  },
  {
   "cell_type": "markdown",
   "id": "d7894b4b",
   "metadata": {},
   "source": [
    "# Exploring the data"
   ]
  },
  {
   "cell_type": "code",
   "execution_count": null,
   "id": "e282f151",
   "metadata": {},
   "outputs": [],
   "source": [
    "final_gpd.info()"
   ]
  }
 ],
 "metadata": {
  "kernelspec": {
   "display_name": "Python 3 (ipykernel)",
   "language": "python",
   "name": "python3"
  },
  "language_info": {
   "codemirror_mode": {
    "name": "ipython",
    "version": 3
   },
   "file_extension": ".py",
   "mimetype": "text/x-python",
   "name": "python",
   "nbconvert_exporter": "python",
   "pygments_lexer": "ipython3",
   "version": "3.10.8"
  }
 },
 "nbformat": 4,
 "nbformat_minor": 5
}
