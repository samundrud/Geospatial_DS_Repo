{
 "cells": [
  {
   "cell_type": "code",
   "execution_count": 1,
   "id": "673c63c1",
   "metadata": {},
   "outputs": [],
   "source": [
    "# Importing the packages\n",
    "from ipyleaflet import (Map, GeoData, basemaps, WidgetControl, GeoJSON,\n",
    " LayersControl, Icon, Marker,basemap_to_tiles, Choropleth,\n",
    " MarkerCluster, Heatmap,SearchControl, \n",
    " FullScreenControl)\n",
    "from ipywidgets import Text, HTML\n",
    "\n",
    "import geopandas as gpd\n",
    "import json"
   ]
  },
  {
   "cell_type": "code",
   "execution_count": null,
   "id": "0ccd6274",
   "metadata": {},
   "outputs": [],
   "source": [
    "### Setting the data path\n",
    "data_path = r'YOUR FILE PATH'"
   ]
  },
  {
   "cell_type": "code",
   "execution_count": 2,
   "id": "83bec859",
   "metadata": {},
   "outputs": [
    {
     "data": {
      "text/html": [
       "<div>\n",
       "<style scoped>\n",
       "    .dataframe tbody tr th:only-of-type {\n",
       "        vertical-align: middle;\n",
       "    }\n",
       "\n",
       "    .dataframe tbody tr th {\n",
       "        vertical-align: top;\n",
       "    }\n",
       "\n",
       "    .dataframe thead th {\n",
       "        text-align: right;\n",
       "    }\n",
       "</style>\n",
       "<table border=\"1\" class=\"dataframe\">\n",
       "  <thead>\n",
       "    <tr style=\"text-align: right;\">\n",
       "      <th></th>\n",
       "      <th>geometry</th>\n",
       "      <th>address</th>\n",
       "      <th>Attraction</th>\n",
       "      <th>lon</th>\n",
       "      <th>lat</th>\n",
       "    </tr>\n",
       "  </thead>\n",
       "  <tbody>\n",
       "    <tr>\n",
       "      <th>0</th>\n",
       "      <td>POINT (-77.03459 38.90178)</td>\n",
       "      <td>15th Street NW, Golden Triangle, Washington, D...</td>\n",
       "      <td>Washington Monument</td>\n",
       "      <td>-77.034587</td>\n",
       "      <td>38.901776</td>\n",
       "    </tr>\n",
       "    <tr>\n",
       "      <th>1</th>\n",
       "      <td>POINT (-77.03771 38.88772)</td>\n",
       "      <td>Independence Avenue Southwest, Penn Quarter, W...</td>\n",
       "      <td>Smithsonian National Air and Space Museum</td>\n",
       "      <td>-77.037713</td>\n",
       "      <td>38.887721</td>\n",
       "    </tr>\n",
       "    <tr>\n",
       "      <th>2</th>\n",
       "      <td>POINT (-77.03655 38.89772)</td>\n",
       "      <td>1600, Pennsylvania Avenue Northwest, Golden Tr...</td>\n",
       "      <td>White House</td>\n",
       "      <td>-77.036548</td>\n",
       "      <td>38.897718</td>\n",
       "    </tr>\n",
       "  </tbody>\n",
       "</table>\n",
       "</div>"
      ],
      "text/plain": [
       "                     geometry  \\\n",
       "0  POINT (-77.03459 38.90178)   \n",
       "1  POINT (-77.03771 38.88772)   \n",
       "2  POINT (-77.03655 38.89772)   \n",
       "\n",
       "                                             address  \\\n",
       "0  15th Street NW, Golden Triangle, Washington, D...   \n",
       "1  Independence Avenue Southwest, Penn Quarter, W...   \n",
       "2  1600, Pennsylvania Avenue Northwest, Golden Tr...   \n",
       "\n",
       "                                  Attraction        lon        lat  \n",
       "0                        Washington Monument -77.034587  38.901776  \n",
       "1  Smithsonian National Air and Space Museum -77.037713  38.887721  \n",
       "2                                White House -77.036548  38.897718  "
      ]
     },
     "execution_count": 2,
     "metadata": {},
     "output_type": "execute_result"
    }
   ],
   "source": [
    "import pandas as pd\n",
    "dc_attractions = pd.read_csv(data_path+ 'DC_Attractions.csv')\n",
    "\n",
    "from geopandas.tools import geocode\n",
    "\n",
    "# Geocode addresses using Nominatim. Remember to provide a custom \"application name\" in the user_agent parameter!\n",
    "dc_attractions_gpd = geocode(dc_attractions['Address'], provider='openmapquest', timeout=4, api_key=\"ZO5OH4wdsrGzmZL75HR5zKqcy9bUF0P9\")\n",
    "dc_attractions_gpd = dc_attractions_gpd.join(dc_attractions[['Attraction']])\n",
    "\n",
    "# Adding in lat and lon columns\n",
    "dc_attractions_gpd['lon'] = dc_attractions_gpd['geometry'].x\n",
    "dc_attractions_gpd['lat'] = dc_attractions_gpd['geometry'].y\n",
    "\n",
    "dc_attractions_gpd.head()"
   ]
  },
  {
   "cell_type": "code",
   "execution_count": 3,
   "id": "c79624bf",
   "metadata": {},
   "outputs": [
    {
     "data": {
      "application/vnd.jupyter.widget-view+json": {
       "model_id": "449e356754e0447e93d17e2596f073f3",
       "version_major": 2,
       "version_minor": 0
      },
      "text/plain": [
       "Map(center=[38.89951498583087, -77.03599825749647], controls=(ZoomControl(options=['position', 'zoom_in_text',…"
      ]
     },
     "execution_count": 3,
     "metadata": {},
     "output_type": "execute_result"
    }
   ],
   "source": [
    "DC_Map = Map(\n",
    "    basemap=basemap_to_tiles(basemaps.Stamen.Toner),\n",
    "    center=(38.89951498583087, -77.03599825749647),\n",
    "    zoom=12\n",
    ")\n",
    "\n",
    "DC_Map"
   ]
  },
  {
   "cell_type": "code",
   "execution_count": 5,
   "id": "f2c111b5",
   "metadata": {},
   "outputs": [],
   "source": [
    "# Mapping the attractions\n",
    "\n",
    "for (index, row) in dc_attractions_gpd.iterrows():\n",
    "    marker = Marker(location = [row.loc['lat'], row.loc['lon']], title=row.loc['Attraction'])\n",
    "    DC_Map.add_layer(marker)"
   ]
  },
  {
   "cell_type": "code",
   "execution_count": 6,
   "id": "5968deb6-fc04-4a3f-b768-b001238f5e49",
   "metadata": {},
   "outputs": [
    {
     "data": {
      "application/vnd.jupyter.widget-view+json": {
       "model_id": "449e356754e0447e93d17e2596f073f3",
       "version_major": 2,
       "version_minor": 0
      },
      "text/plain": [
       "Map(bottom=401320.0, center=[38.89951498583087, -77.03599825749647], controls=(ZoomControl(options=['position'…"
      ]
     },
     "execution_count": 6,
     "metadata": {},
     "output_type": "execute_result"
    }
   ],
   "source": [
    "DC_Map"
   ]
  },
  {
   "cell_type": "code",
   "execution_count": null,
   "id": "f717f81a-e375-4eab-8c57-5557f6a35d24",
   "metadata": {},
   "outputs": [],
   "source": []
  }
 ],
 "metadata": {
  "kernelspec": {
   "display_name": "Python 3 (ipykernel)",
   "language": "python",
   "name": "python3"
  },
  "language_info": {
   "codemirror_mode": {
    "name": "ipython",
    "version": 3
   },
   "file_extension": ".py",
   "mimetype": "text/x-python",
   "name": "python",
   "nbconvert_exporter": "python",
   "pygments_lexer": "ipython3",
   "version": "3.10.6"
  }
 },
 "nbformat": 4,
 "nbformat_minor": 5
}
